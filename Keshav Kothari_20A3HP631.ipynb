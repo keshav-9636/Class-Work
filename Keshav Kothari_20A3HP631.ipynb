{
 "cells": [
  {
   "cell_type": "code",
   "execution_count": 25,
   "metadata": {},
   "outputs": [],
   "source": [
    "import pandas as pd\n",
    "import numpy as np\n",
    "import matplotlib.pyplot as plt\n",
    "import seaborn as sns\n",
    "import statsmodels.api as sm\n",
    "%matplotlib inline"
   ]
  },
  {
   "cell_type": "code",
   "execution_count": 2,
   "metadata": {},
   "outputs": [],
   "source": [
    "hr_df = pd.read_csv('hr_comma_sep.csv')"
   ]
  },
  {
   "cell_type": "code",
   "execution_count": 3,
   "metadata": {},
   "outputs": [
    {
     "data": {
      "text/html": [
       "<div>\n",
       "<style scoped>\n",
       "    .dataframe tbody tr th:only-of-type {\n",
       "        vertical-align: middle;\n",
       "    }\n",
       "\n",
       "    .dataframe tbody tr th {\n",
       "        vertical-align: top;\n",
       "    }\n",
       "\n",
       "    .dataframe thead th {\n",
       "        text-align: right;\n",
       "    }\n",
       "</style>\n",
       "<table border=\"1\" class=\"dataframe\">\n",
       "  <thead>\n",
       "    <tr style=\"text-align: right;\">\n",
       "      <th></th>\n",
       "      <th>satisfaction_level</th>\n",
       "      <th>last_evaluation</th>\n",
       "      <th>number_project</th>\n",
       "      <th>average_montly_hours</th>\n",
       "      <th>time_spend_company</th>\n",
       "      <th>Work_accident</th>\n",
       "      <th>left</th>\n",
       "      <th>promotion_last_5years</th>\n",
       "      <th>sales</th>\n",
       "      <th>salary</th>\n",
       "    </tr>\n",
       "  </thead>\n",
       "  <tbody>\n",
       "    <tr>\n",
       "      <td>0</td>\n",
       "      <td>0.38</td>\n",
       "      <td>0.53</td>\n",
       "      <td>2</td>\n",
       "      <td>157</td>\n",
       "      <td>3</td>\n",
       "      <td>0</td>\n",
       "      <td>1</td>\n",
       "      <td>0</td>\n",
       "      <td>sales</td>\n",
       "      <td>low</td>\n",
       "    </tr>\n",
       "    <tr>\n",
       "      <td>1</td>\n",
       "      <td>0.80</td>\n",
       "      <td>0.86</td>\n",
       "      <td>5</td>\n",
       "      <td>262</td>\n",
       "      <td>6</td>\n",
       "      <td>0</td>\n",
       "      <td>1</td>\n",
       "      <td>0</td>\n",
       "      <td>sales</td>\n",
       "      <td>medium</td>\n",
       "    </tr>\n",
       "    <tr>\n",
       "      <td>2</td>\n",
       "      <td>0.11</td>\n",
       "      <td>0.88</td>\n",
       "      <td>7</td>\n",
       "      <td>272</td>\n",
       "      <td>4</td>\n",
       "      <td>0</td>\n",
       "      <td>1</td>\n",
       "      <td>0</td>\n",
       "      <td>sales</td>\n",
       "      <td>medium</td>\n",
       "    </tr>\n",
       "    <tr>\n",
       "      <td>3</td>\n",
       "      <td>0.72</td>\n",
       "      <td>0.87</td>\n",
       "      <td>5</td>\n",
       "      <td>223</td>\n",
       "      <td>5</td>\n",
       "      <td>0</td>\n",
       "      <td>1</td>\n",
       "      <td>0</td>\n",
       "      <td>sales</td>\n",
       "      <td>low</td>\n",
       "    </tr>\n",
       "    <tr>\n",
       "      <td>4</td>\n",
       "      <td>0.37</td>\n",
       "      <td>0.52</td>\n",
       "      <td>2</td>\n",
       "      <td>159</td>\n",
       "      <td>3</td>\n",
       "      <td>0</td>\n",
       "      <td>1</td>\n",
       "      <td>0</td>\n",
       "      <td>sales</td>\n",
       "      <td>low</td>\n",
       "    </tr>\n",
       "  </tbody>\n",
       "</table>\n",
       "</div>"
      ],
      "text/plain": [
       "   satisfaction_level  last_evaluation  number_project  average_montly_hours  \\\n",
       "0                0.38             0.53               2                   157   \n",
       "1                0.80             0.86               5                   262   \n",
       "2                0.11             0.88               7                   272   \n",
       "3                0.72             0.87               5                   223   \n",
       "4                0.37             0.52               2                   159   \n",
       "\n",
       "   time_spend_company  Work_accident  left  promotion_last_5years  sales  \\\n",
       "0                   3              0     1                      0  sales   \n",
       "1                   6              0     1                      0  sales   \n",
       "2                   4              0     1                      0  sales   \n",
       "3                   5              0     1                      0  sales   \n",
       "4                   3              0     1                      0  sales   \n",
       "\n",
       "   salary  \n",
       "0     low  \n",
       "1  medium  \n",
       "2  medium  \n",
       "3     low  \n",
       "4     low  "
      ]
     },
     "execution_count": 3,
     "metadata": {},
     "output_type": "execute_result"
    }
   ],
   "source": [
    "hr_df.head()"
   ]
  },
  {
   "cell_type": "code",
   "execution_count": 4,
   "metadata": {},
   "outputs": [
    {
     "data": {
      "text/plain": [
       "0    11428\n",
       "1     3571\n",
       "Name: left, dtype: int64"
      ]
     },
     "execution_count": 4,
     "metadata": {},
     "output_type": "execute_result"
    }
   ],
   "source": [
    "hr_df.left.value_counts()"
   ]
  },
  {
   "cell_type": "code",
   "execution_count": 6,
   "metadata": {},
   "outputs": [
    {
     "data": {
      "text/plain": [
       "['satisfaction_level',\n",
       " 'last_evaluation',\n",
       " 'number_project',\n",
       " 'average_montly_hours',\n",
       " 'time_spend_company',\n",
       " 'Work_accident',\n",
       " 'promotion_last_5years',\n",
       " 'sales',\n",
       " 'salary']"
      ]
     },
     "execution_count": 6,
     "metadata": {},
     "output_type": "execute_result"
    }
   ],
   "source": [
    "X_features = list(hr_df.columns)\n",
    "X_features.remove('left')\n",
    "X_features"
   ]
  },
  {
   "cell_type": "code",
   "execution_count": 9,
   "metadata": {},
   "outputs": [],
   "source": [
    "encoded_hr_df = pd.get_dummies(hr_df[X_features],\n",
    "drop_first = True)"
   ]
  },
  {
   "cell_type": "code",
   "execution_count": 10,
   "metadata": {},
   "outputs": [
    {
     "data": {
      "text/html": [
       "<div>\n",
       "<style scoped>\n",
       "    .dataframe tbody tr th:only-of-type {\n",
       "        vertical-align: middle;\n",
       "    }\n",
       "\n",
       "    .dataframe tbody tr th {\n",
       "        vertical-align: top;\n",
       "    }\n",
       "\n",
       "    .dataframe thead th {\n",
       "        text-align: right;\n",
       "    }\n",
       "</style>\n",
       "<table border=\"1\" class=\"dataframe\">\n",
       "  <thead>\n",
       "    <tr style=\"text-align: right;\">\n",
       "      <th></th>\n",
       "      <th>satisfaction_level</th>\n",
       "      <th>last_evaluation</th>\n",
       "      <th>number_project</th>\n",
       "      <th>average_montly_hours</th>\n",
       "      <th>time_spend_company</th>\n",
       "      <th>Work_accident</th>\n",
       "      <th>promotion_last_5years</th>\n",
       "      <th>sales_RandD</th>\n",
       "      <th>sales_accounting</th>\n",
       "      <th>sales_hr</th>\n",
       "      <th>sales_management</th>\n",
       "      <th>sales_marketing</th>\n",
       "      <th>sales_product_mng</th>\n",
       "      <th>sales_sales</th>\n",
       "      <th>sales_support</th>\n",
       "      <th>sales_technical</th>\n",
       "      <th>salary_low</th>\n",
       "      <th>salary_medium</th>\n",
       "    </tr>\n",
       "  </thead>\n",
       "  <tbody>\n",
       "    <tr>\n",
       "      <td>0</td>\n",
       "      <td>0.38</td>\n",
       "      <td>0.53</td>\n",
       "      <td>2</td>\n",
       "      <td>157</td>\n",
       "      <td>3</td>\n",
       "      <td>0</td>\n",
       "      <td>0</td>\n",
       "      <td>0</td>\n",
       "      <td>0</td>\n",
       "      <td>0</td>\n",
       "      <td>0</td>\n",
       "      <td>0</td>\n",
       "      <td>0</td>\n",
       "      <td>1</td>\n",
       "      <td>0</td>\n",
       "      <td>0</td>\n",
       "      <td>1</td>\n",
       "      <td>0</td>\n",
       "    </tr>\n",
       "    <tr>\n",
       "      <td>1</td>\n",
       "      <td>0.80</td>\n",
       "      <td>0.86</td>\n",
       "      <td>5</td>\n",
       "      <td>262</td>\n",
       "      <td>6</td>\n",
       "      <td>0</td>\n",
       "      <td>0</td>\n",
       "      <td>0</td>\n",
       "      <td>0</td>\n",
       "      <td>0</td>\n",
       "      <td>0</td>\n",
       "      <td>0</td>\n",
       "      <td>0</td>\n",
       "      <td>1</td>\n",
       "      <td>0</td>\n",
       "      <td>0</td>\n",
       "      <td>0</td>\n",
       "      <td>1</td>\n",
       "    </tr>\n",
       "    <tr>\n",
       "      <td>2</td>\n",
       "      <td>0.11</td>\n",
       "      <td>0.88</td>\n",
       "      <td>7</td>\n",
       "      <td>272</td>\n",
       "      <td>4</td>\n",
       "      <td>0</td>\n",
       "      <td>0</td>\n",
       "      <td>0</td>\n",
       "      <td>0</td>\n",
       "      <td>0</td>\n",
       "      <td>0</td>\n",
       "      <td>0</td>\n",
       "      <td>0</td>\n",
       "      <td>1</td>\n",
       "      <td>0</td>\n",
       "      <td>0</td>\n",
       "      <td>0</td>\n",
       "      <td>1</td>\n",
       "    </tr>\n",
       "    <tr>\n",
       "      <td>3</td>\n",
       "      <td>0.72</td>\n",
       "      <td>0.87</td>\n",
       "      <td>5</td>\n",
       "      <td>223</td>\n",
       "      <td>5</td>\n",
       "      <td>0</td>\n",
       "      <td>0</td>\n",
       "      <td>0</td>\n",
       "      <td>0</td>\n",
       "      <td>0</td>\n",
       "      <td>0</td>\n",
       "      <td>0</td>\n",
       "      <td>0</td>\n",
       "      <td>1</td>\n",
       "      <td>0</td>\n",
       "      <td>0</td>\n",
       "      <td>1</td>\n",
       "      <td>0</td>\n",
       "    </tr>\n",
       "    <tr>\n",
       "      <td>4</td>\n",
       "      <td>0.37</td>\n",
       "      <td>0.52</td>\n",
       "      <td>2</td>\n",
       "      <td>159</td>\n",
       "      <td>3</td>\n",
       "      <td>0</td>\n",
       "      <td>0</td>\n",
       "      <td>0</td>\n",
       "      <td>0</td>\n",
       "      <td>0</td>\n",
       "      <td>0</td>\n",
       "      <td>0</td>\n",
       "      <td>0</td>\n",
       "      <td>1</td>\n",
       "      <td>0</td>\n",
       "      <td>0</td>\n",
       "      <td>1</td>\n",
       "      <td>0</td>\n",
       "    </tr>\n",
       "  </tbody>\n",
       "</table>\n",
       "</div>"
      ],
      "text/plain": [
       "   satisfaction_level  last_evaluation  number_project  average_montly_hours  \\\n",
       "0                0.38             0.53               2                   157   \n",
       "1                0.80             0.86               5                   262   \n",
       "2                0.11             0.88               7                   272   \n",
       "3                0.72             0.87               5                   223   \n",
       "4                0.37             0.52               2                   159   \n",
       "\n",
       "   time_spend_company  Work_accident  promotion_last_5years  sales_RandD  \\\n",
       "0                   3              0                      0            0   \n",
       "1                   6              0                      0            0   \n",
       "2                   4              0                      0            0   \n",
       "3                   5              0                      0            0   \n",
       "4                   3              0                      0            0   \n",
       "\n",
       "   sales_accounting  sales_hr  sales_management  sales_marketing  \\\n",
       "0                 0         0                 0                0   \n",
       "1                 0         0                 0                0   \n",
       "2                 0         0                 0                0   \n",
       "3                 0         0                 0                0   \n",
       "4                 0         0                 0                0   \n",
       "\n",
       "   sales_product_mng  sales_sales  sales_support  sales_technical  salary_low  \\\n",
       "0                  0            1              0                0           1   \n",
       "1                  0            1              0                0           0   \n",
       "2                  0            1              0                0           0   \n",
       "3                  0            1              0                0           1   \n",
       "4                  0            1              0                0           1   \n",
       "\n",
       "   salary_medium  \n",
       "0              0  \n",
       "1              1  \n",
       "2              1  \n",
       "3              0  \n",
       "4              0  "
      ]
     },
     "execution_count": 10,
     "metadata": {},
     "output_type": "execute_result"
    }
   ],
   "source": [
    "encoded_hr_df.head()"
   ]
  },
  {
   "cell_type": "code",
   "execution_count": 13,
   "metadata": {},
   "outputs": [
    {
     "name": "stderr",
     "output_type": "stream",
     "text": [
      "C:\\Users\\Keshav\\Anaconda3\\lib\\site-packages\\numpy\\core\\fromnumeric.py:2389: FutureWarning: Method .ptp is deprecated and will be removed in a future version. Use numpy.ptp instead.\n",
      "  return ptp(axis=axis, out=out, **kwargs)\n"
     ]
    }
   ],
   "source": [
    "y = hr_df['left']\n",
    "X = sm.add_constant(encoded_hr_df)"
   ]
  },
  {
   "cell_type": "code",
   "execution_count": 14,
   "metadata": {},
   "outputs": [],
   "source": [
    "from sklearn.model_selection import train_test_split_split"
   ]
  },
  {
   "cell_type": "code",
   "execution_count": 15,
   "metadata": {},
   "outputs": [],
   "source": [
    "X_train, X_test, y_train, y_test = train_test_split(X, y, test_size=0.3, random_state=42)"
   ]
  },
  {
   "cell_type": "code",
   "execution_count": 16,
   "metadata": {},
   "outputs": [
    {
     "name": "stdout",
     "output_type": "stream",
     "text": [
      "Optimization terminated successfully.\n",
      "         Current function value: 0.425451\n",
      "         Iterations 7\n"
     ]
    },
    {
     "data": {
      "text/html": [
       "<table class=\"simpletable\">\n",
       "<tr>\n",
       "        <td>Model:</td>              <td>Logit</td>      <td>Pseudo R-squared:</td>   <td>0.225</td>  \n",
       "</tr>\n",
       "<tr>\n",
       "  <td>Dependent Variable:</td>       <td>left</td>             <td>AIC:</td>        <td>8971.6245</td>\n",
       "</tr>\n",
       "<tr>\n",
       "         <td>Date:</td>        <td>2021-09-01 10:58</td>       <td>BIC:</td>        <td>9109.5462</td>\n",
       "</tr>\n",
       "<tr>\n",
       "   <td>No. Observations:</td>        <td>10499</td>       <td>Log-Likelihood:</td>   <td>-4466.8</td> \n",
       "</tr>\n",
       "<tr>\n",
       "       <td>Df Model:</td>             <td>18</td>            <td>LL-Null:</td>       <td>-5761.7</td> \n",
       "</tr>\n",
       "<tr>\n",
       "     <td>Df Residuals:</td>          <td>10480</td>        <td>LLR p-value:</td>     <td>0.0000</td>  \n",
       "</tr>\n",
       "<tr>\n",
       "      <td>Converged:</td>           <td>1.0000</td>           <td>Scale:</td>        <td>1.0000</td>  \n",
       "</tr>\n",
       "<tr>\n",
       "    <td>No. Iterations:</td>        <td>7.0000</td>              <td></td>              <td></td>     \n",
       "</tr>\n",
       "</table>\n",
       "<table class=\"simpletable\">\n",
       "<tr>\n",
       "            <td></td>             <th>Coef.</th>  <th>Std.Err.</th>     <th>z</th>     <th>P>|z|</th> <th>[0.025</th>  <th>0.975]</th> \n",
       "</tr>\n",
       "<tr>\n",
       "  <th>const</th>                 <td>-1.7951</td>  <td>0.2307</td>   <td>-7.7818</td> <td>0.0000</td> <td>-2.2473</td> <td>-1.3430</td>\n",
       "</tr>\n",
       "<tr>\n",
       "  <th>satisfaction_level</th>    <td>-4.1857</td>  <td>0.1173</td>  <td>-35.6847</td> <td>0.0000</td> <td>-4.4156</td> <td>-3.9558</td>\n",
       "</tr>\n",
       "<tr>\n",
       "  <th>last_evaluation</th>       <td>0.6297</td>   <td>0.1787</td>   <td>3.5234</td>  <td>0.0004</td> <td>0.2794</td>  <td>0.9800</td> \n",
       "</tr>\n",
       "<tr>\n",
       "  <th>number_project</th>        <td>-0.3019</td>  <td>0.0254</td>  <td>-11.8800</td> <td>0.0000</td> <td>-0.3517</td> <td>-0.2521</td>\n",
       "</tr>\n",
       "<tr>\n",
       "  <th>average_montly_hours</th>  <td>0.0048</td>   <td>0.0006</td>   <td>7.7658</td>  <td>0.0000</td> <td>0.0036</td>  <td>0.0060</td> \n",
       "</tr>\n",
       "<tr>\n",
       "  <th>time_spend_company</th>    <td>0.2678</td>   <td>0.0187</td>   <td>14.3073</td> <td>0.0000</td> <td>0.2311</td>  <td>0.3044</td> \n",
       "</tr>\n",
       "<tr>\n",
       "  <th>Work_accident</th>         <td>-1.5018</td>  <td>0.1056</td>  <td>-14.2198</td> <td>0.0000</td> <td>-1.7088</td> <td>-1.2948</td>\n",
       "</tr>\n",
       "<tr>\n",
       "  <th>promotion_last_5years</th> <td>-1.3485</td>  <td>0.3021</td>   <td>-4.4634</td> <td>0.0000</td> <td>-1.9406</td> <td>-0.7563</td>\n",
       "</tr>\n",
       "<tr>\n",
       "  <th>sales_RandD</th>           <td>-0.5820</td>  <td>0.1668</td>   <td>-3.4883</td> <td>0.0005</td> <td>-0.9090</td> <td>-0.2550</td>\n",
       "</tr>\n",
       "<tr>\n",
       "  <th>sales_accounting</th>      <td>0.2244</td>   <td>0.1465</td>   <td>1.5312</td>  <td>0.1257</td> <td>-0.0628</td> <td>0.5116</td> \n",
       "</tr>\n",
       "<tr>\n",
       "  <th>sales_hr</th>              <td>0.4455</td>   <td>0.1478</td>   <td>3.0135</td>  <td>0.0026</td> <td>0.1557</td>  <td>0.7352</td> \n",
       "</tr>\n",
       "<tr>\n",
       "  <th>sales_management</th>      <td>-0.2483</td>  <td>0.1773</td>   <td>-1.4010</td> <td>0.1612</td> <td>-0.5957</td> <td>0.0991</td> \n",
       "</tr>\n",
       "<tr>\n",
       "  <th>sales_marketing</th>       <td>0.2629</td>   <td>0.1469</td>   <td>1.7891</td>  <td>0.0736</td> <td>-0.0251</td> <td>0.5509</td> \n",
       "</tr>\n",
       "<tr>\n",
       "  <th>sales_product_mng</th>     <td>0.1162</td>   <td>0.1402</td>   <td>0.8283</td>  <td>0.4075</td> <td>-0.1587</td> <td>0.3910</td> \n",
       "</tr>\n",
       "<tr>\n",
       "  <th>sales_sales</th>           <td>0.1571</td>   <td>0.1070</td>   <td>1.4682</td>  <td>0.1421</td> <td>-0.0526</td> <td>0.3669</td> \n",
       "</tr>\n",
       "<tr>\n",
       "  <th>sales_support</th>         <td>0.1707</td>   <td>0.1173</td>   <td>1.4552</td>  <td>0.1456</td> <td>-0.0592</td> <td>0.4006</td> \n",
       "</tr>\n",
       "<tr>\n",
       "  <th>sales_technical</th>       <td>0.2641</td>   <td>0.1129</td>   <td>2.3380</td>  <td>0.0194</td> <td>0.0427</td>  <td>0.4855</td> \n",
       "</tr>\n",
       "<tr>\n",
       "  <th>salary_low</th>            <td>2.0546</td>   <td>0.1596</td>   <td>12.8731</td> <td>0.0000</td> <td>1.7418</td>  <td>2.3674</td> \n",
       "</tr>\n",
       "<tr>\n",
       "  <th>salary_medium</th>         <td>1.5342</td>   <td>0.1603</td>   <td>9.5677</td>  <td>0.0000</td> <td>1.2199</td>  <td>1.8484</td> \n",
       "</tr>\n",
       "</table>"
      ],
      "text/plain": [
       "<class 'statsmodels.iolib.summary2.Summary'>\n",
       "\"\"\"\n",
       "                            Results: Logit\n",
       "======================================================================\n",
       "Model:                Logit              Pseudo R-squared:   0.225    \n",
       "Dependent Variable:   left               AIC:                8971.6245\n",
       "Date:                 2021-09-01 10:58   BIC:                9109.5462\n",
       "No. Observations:     10499              Log-Likelihood:     -4466.8  \n",
       "Df Model:             18                 LL-Null:            -5761.7  \n",
       "Df Residuals:         10480              LLR p-value:        0.0000   \n",
       "Converged:            1.0000             Scale:              1.0000   \n",
       "No. Iterations:       7.0000                                          \n",
       "----------------------------------------------------------------------\n",
       "                       Coef.  Std.Err.    z     P>|z|   [0.025  0.975]\n",
       "----------------------------------------------------------------------\n",
       "const                 -1.7951   0.2307  -7.7818 0.0000 -2.2473 -1.3430\n",
       "satisfaction_level    -4.1857   0.1173 -35.6847 0.0000 -4.4156 -3.9558\n",
       "last_evaluation        0.6297   0.1787   3.5234 0.0004  0.2794  0.9800\n",
       "number_project        -0.3019   0.0254 -11.8800 0.0000 -0.3517 -0.2521\n",
       "average_montly_hours   0.0048   0.0006   7.7658 0.0000  0.0036  0.0060\n",
       "time_spend_company     0.2678   0.0187  14.3073 0.0000  0.2311  0.3044\n",
       "Work_accident         -1.5018   0.1056 -14.2198 0.0000 -1.7088 -1.2948\n",
       "promotion_last_5years -1.3485   0.3021  -4.4634 0.0000 -1.9406 -0.7563\n",
       "sales_RandD           -0.5820   0.1668  -3.4883 0.0005 -0.9090 -0.2550\n",
       "sales_accounting       0.2244   0.1465   1.5312 0.1257 -0.0628  0.5116\n",
       "sales_hr               0.4455   0.1478   3.0135 0.0026  0.1557  0.7352\n",
       "sales_management      -0.2483   0.1773  -1.4010 0.1612 -0.5957  0.0991\n",
       "sales_marketing        0.2629   0.1469   1.7891 0.0736 -0.0251  0.5509\n",
       "sales_product_mng      0.1162   0.1402   0.8283 0.4075 -0.1587  0.3910\n",
       "sales_sales            0.1571   0.1070   1.4682 0.1421 -0.0526  0.3669\n",
       "sales_support          0.1707   0.1173   1.4552 0.1456 -0.0592  0.4006\n",
       "sales_technical        0.2641   0.1129   2.3380 0.0194  0.0427  0.4855\n",
       "salary_low             2.0546   0.1596  12.8731 0.0000  1.7418  2.3674\n",
       "salary_medium          1.5342   0.1603   9.5677 0.0000  1.2199  1.8484\n",
       "======================================================================\n",
       "\n",
       "\"\"\""
      ]
     },
     "execution_count": 16,
     "metadata": {},
     "output_type": "execute_result"
    }
   ],
   "source": [
    "model = sm.Logit(y_train, X_train).fit()\n",
    "model.summary2()"
   ]
  },
  {
   "cell_type": "code",
   "execution_count": 17,
   "metadata": {},
   "outputs": [],
   "source": [
    "def get_significant_vars(lm):\n",
    "    var_p_vals_df = pd.DataFrame(lm.pvalues)\n",
    "    var_p_vals_df['vars'] = var_p_vals_df.index\n",
    "    var_p_vals_df.columns = ['pvals', 'vars']\n",
    "    return list(var_p_vals_df[var_p_vals_df.pvals <= 0.05]['vars'])"
   ]
  },
  {
   "cell_type": "code",
   "execution_count": 19,
   "metadata": {},
   "outputs": [
    {
     "data": {
      "text/plain": [
       "['const',\n",
       " 'satisfaction_level',\n",
       " 'last_evaluation',\n",
       " 'number_project',\n",
       " 'average_montly_hours',\n",
       " 'time_spend_company',\n",
       " 'Work_accident',\n",
       " 'promotion_last_5years',\n",
       " 'sales_RandD',\n",
       " 'sales_hr',\n",
       " 'sales_technical',\n",
       " 'salary_low',\n",
       " 'salary_medium']"
      ]
     },
     "execution_count": 19,
     "metadata": {},
     "output_type": "execute_result"
    }
   ],
   "source": [
    "significant_vars = get_significant_vars(model)\n",
    "significant_vars"
   ]
  },
  {
   "cell_type": "code",
   "execution_count": 20,
   "metadata": {},
   "outputs": [
    {
     "name": "stderr",
     "output_type": "stream",
     "text": [
      "C:\\Users\\Keshav\\Anaconda3\\lib\\site-packages\\numpy\\core\\fromnumeric.py:2389: FutureWarning: Method .ptp is deprecated and will be removed in a future version. Use numpy.ptp instead.\n",
      "  return ptp(axis=axis, out=out, **kwargs)\n"
     ]
    },
    {
     "name": "stdout",
     "output_type": "stream",
     "text": [
      "Optimization terminated successfully.\n",
      "         Current function value: 0.425996\n",
      "         Iterations 7\n"
     ]
    }
   ],
   "source": [
    "final_logit = sm.Logit(y_train,\n",
    "sm.add_constant(X_train[significant_vars])).fit()"
   ]
  },
  {
   "cell_type": "code",
   "execution_count": 21,
   "metadata": {},
   "outputs": [
    {
     "data": {
      "text/html": [
       "<table class=\"simpletable\">\n",
       "<tr>\n",
       "        <td>Model:</td>              <td>Logit</td>      <td>Pseudo R-squared:</td>   <td>0.224</td>  \n",
       "</tr>\n",
       "<tr>\n",
       "  <td>Dependent Variable:</td>       <td>left</td>             <td>AIC:</td>        <td>8971.0718</td>\n",
       "</tr>\n",
       "<tr>\n",
       "         <td>Date:</td>        <td>2021-09-01 13:10</td>       <td>BIC:</td>        <td>9065.4393</td>\n",
       "</tr>\n",
       "<tr>\n",
       "   <td>No. Observations:</td>        <td>10499</td>       <td>Log-Likelihood:</td>   <td>-4472.5</td> \n",
       "</tr>\n",
       "<tr>\n",
       "       <td>Df Model:</td>             <td>12</td>            <td>LL-Null:</td>       <td>-5761.7</td> \n",
       "</tr>\n",
       "<tr>\n",
       "     <td>Df Residuals:</td>          <td>10486</td>        <td>LLR p-value:</td>     <td>0.0000</td>  \n",
       "</tr>\n",
       "<tr>\n",
       "      <td>Converged:</td>           <td>1.0000</td>           <td>Scale:</td>        <td>1.0000</td>  \n",
       "</tr>\n",
       "<tr>\n",
       "    <td>No. Iterations:</td>        <td>7.0000</td>              <td></td>              <td></td>     \n",
       "</tr>\n",
       "</table>\n",
       "<table class=\"simpletable\">\n",
       "<tr>\n",
       "            <td></td>             <th>Coef.</th>  <th>Std.Err.</th>     <th>z</th>     <th>P>|z|</th> <th>[0.025</th>  <th>0.975]</th> \n",
       "</tr>\n",
       "<tr>\n",
       "  <th>const</th>                 <td>-1.6976</td>  <td>0.2113</td>   <td>-8.0326</td> <td>0.0000</td> <td>-2.1118</td> <td>-1.2834</td>\n",
       "</tr>\n",
       "<tr>\n",
       "  <th>satisfaction_level</th>    <td>-4.1884</td>  <td>0.1172</td>  <td>-35.7314</td> <td>0.0000</td> <td>-4.4181</td> <td>-3.9587</td>\n",
       "</tr>\n",
       "<tr>\n",
       "  <th>last_evaluation</th>       <td>0.6231</td>   <td>0.1785</td>   <td>3.4905</td>  <td>0.0005</td> <td>0.2732</td>  <td>0.9730</td> \n",
       "</tr>\n",
       "<tr>\n",
       "  <th>number_project</th>        <td>-0.3017</td>  <td>0.0254</td>  <td>-11.8856</td> <td>0.0000</td> <td>-0.3515</td> <td>-0.2520</td>\n",
       "</tr>\n",
       "<tr>\n",
       "  <th>average_montly_hours</th>  <td>0.0048</td>   <td>0.0006</td>   <td>7.7795</td>  <td>0.0000</td> <td>0.0036</td>  <td>0.0060</td> \n",
       "</tr>\n",
       "<tr>\n",
       "  <th>time_spend_company</th>    <td>0.2636</td>   <td>0.0185</td>   <td>14.2373</td> <td>0.0000</td> <td>0.2273</td>  <td>0.2999</td> \n",
       "</tr>\n",
       "<tr>\n",
       "  <th>Work_accident</th>         <td>-1.5019</td>  <td>0.1056</td>  <td>-14.2169</td> <td>0.0000</td> <td>-1.7090</td> <td>-1.2949</td>\n",
       "</tr>\n",
       "<tr>\n",
       "  <th>promotion_last_5years</th> <td>-1.3769</td>  <td>0.3005</td>   <td>-4.5817</td> <td>0.0000</td> <td>-1.9660</td> <td>-0.7879</td>\n",
       "</tr>\n",
       "<tr>\n",
       "  <th>sales_RandD</th>           <td>-0.7150</td>  <td>0.1407</td>   <td>-5.0830</td> <td>0.0000</td> <td>-0.9906</td> <td>-0.4393</td>\n",
       "</tr>\n",
       "<tr>\n",
       "  <th>sales_hr</th>              <td>0.3120</td>   <td>0.1175</td>   <td>2.6548</td>  <td>0.0079</td> <td>0.0817</td>  <td>0.5423</td> \n",
       "</tr>\n",
       "<tr>\n",
       "  <th>sales_technical</th>       <td>0.1302</td>   <td>0.0687</td>   <td>1.8960</td>  <td>0.0580</td> <td>-0.0044</td> <td>0.2648</td> \n",
       "</tr>\n",
       "<tr>\n",
       "  <th>salary_low</th>            <td>2.1139</td>   <td>0.1584</td>   <td>13.3427</td> <td>0.0000</td> <td>1.8034</td>  <td>2.4244</td> \n",
       "</tr>\n",
       "<tr>\n",
       "  <th>salary_medium</th>         <td>1.5889</td>   <td>0.1593</td>   <td>9.9755</td>  <td>0.0000</td> <td>1.2767</td>  <td>1.9011</td> \n",
       "</tr>\n",
       "</table>"
      ],
      "text/plain": [
       "<class 'statsmodels.iolib.summary2.Summary'>\n",
       "\"\"\"\n",
       "                            Results: Logit\n",
       "======================================================================\n",
       "Model:                Logit              Pseudo R-squared:   0.224    \n",
       "Dependent Variable:   left               AIC:                8971.0718\n",
       "Date:                 2021-09-01 13:10   BIC:                9065.4393\n",
       "No. Observations:     10499              Log-Likelihood:     -4472.5  \n",
       "Df Model:             12                 LL-Null:            -5761.7  \n",
       "Df Residuals:         10486              LLR p-value:        0.0000   \n",
       "Converged:            1.0000             Scale:              1.0000   \n",
       "No. Iterations:       7.0000                                          \n",
       "----------------------------------------------------------------------\n",
       "                       Coef.  Std.Err.    z     P>|z|   [0.025  0.975]\n",
       "----------------------------------------------------------------------\n",
       "const                 -1.6976   0.2113  -8.0326 0.0000 -2.1118 -1.2834\n",
       "satisfaction_level    -4.1884   0.1172 -35.7314 0.0000 -4.4181 -3.9587\n",
       "last_evaluation        0.6231   0.1785   3.4905 0.0005  0.2732  0.9730\n",
       "number_project        -0.3017   0.0254 -11.8856 0.0000 -0.3515 -0.2520\n",
       "average_montly_hours   0.0048   0.0006   7.7795 0.0000  0.0036  0.0060\n",
       "time_spend_company     0.2636   0.0185  14.2373 0.0000  0.2273  0.2999\n",
       "Work_accident         -1.5019   0.1056 -14.2169 0.0000 -1.7090 -1.2949\n",
       "promotion_last_5years -1.3769   0.3005  -4.5817 0.0000 -1.9660 -0.7879\n",
       "sales_RandD           -0.7150   0.1407  -5.0830 0.0000 -0.9906 -0.4393\n",
       "sales_hr               0.3120   0.1175   2.6548 0.0079  0.0817  0.5423\n",
       "sales_technical        0.1302   0.0687   1.8960 0.0580 -0.0044  0.2648\n",
       "salary_low             2.1139   0.1584  13.3427 0.0000  1.8034  2.4244\n",
       "salary_medium          1.5889   0.1593   9.9755 0.0000  1.2767  1.9011\n",
       "======================================================================\n",
       "\n",
       "\"\"\""
      ]
     },
     "execution_count": 21,
     "metadata": {},
     "output_type": "execute_result"
    }
   ],
   "source": [
    "final_logit.summary2()"
   ]
  },
  {
   "cell_type": "code",
   "execution_count": 22,
   "metadata": {},
   "outputs": [],
   "source": [
    "y_pred_df = pd.DataFrame({\"actual\": y_test,\n",
    "\"predicted_prob\": final_logit.predict(\n",
    "sm.add_constant(X_test[significant_vars]))})"
   ]
  },
  {
   "cell_type": "code",
   "execution_count": 23,
   "metadata": {},
   "outputs": [
    {
     "data": {
      "text/html": [
       "<div>\n",
       "<style scoped>\n",
       "    .dataframe tbody tr th:only-of-type {\n",
       "        vertical-align: middle;\n",
       "    }\n",
       "\n",
       "    .dataframe tbody tr th {\n",
       "        vertical-align: top;\n",
       "    }\n",
       "\n",
       "    .dataframe thead th {\n",
       "        text-align: right;\n",
       "    }\n",
       "</style>\n",
       "<table border=\"1\" class=\"dataframe\">\n",
       "  <thead>\n",
       "    <tr style=\"text-align: right;\">\n",
       "      <th></th>\n",
       "      <th>actual</th>\n",
       "      <th>predicted_prob</th>\n",
       "    </tr>\n",
       "  </thead>\n",
       "  <tbody>\n",
       "    <tr>\n",
       "      <td>13995</td>\n",
       "      <td>0</td>\n",
       "      <td>0.007618</td>\n",
       "    </tr>\n",
       "    <tr>\n",
       "      <td>4442</td>\n",
       "      <td>0</td>\n",
       "      <td>0.273093</td>\n",
       "    </tr>\n",
       "    <tr>\n",
       "      <td>8091</td>\n",
       "      <td>0</td>\n",
       "      <td>0.170343</td>\n",
       "    </tr>\n",
       "    <tr>\n",
       "      <td>9822</td>\n",
       "      <td>0</td>\n",
       "      <td>0.034714</td>\n",
       "    </tr>\n",
       "    <tr>\n",
       "      <td>6151</td>\n",
       "      <td>0</td>\n",
       "      <td>0.404714</td>\n",
       "    </tr>\n",
       "    <tr>\n",
       "      <td>6282</td>\n",
       "      <td>0</td>\n",
       "      <td>0.039314</td>\n",
       "    </tr>\n",
       "    <tr>\n",
       "      <td>511</td>\n",
       "      <td>1</td>\n",
       "      <td>0.557681</td>\n",
       "    </tr>\n",
       "    <tr>\n",
       "      <td>11024</td>\n",
       "      <td>0</td>\n",
       "      <td>0.147946</td>\n",
       "    </tr>\n",
       "    <tr>\n",
       "      <td>3980</td>\n",
       "      <td>0</td>\n",
       "      <td>0.118936</td>\n",
       "    </tr>\n",
       "    <tr>\n",
       "      <td>4229</td>\n",
       "      <td>0</td>\n",
       "      <td>0.109096</td>\n",
       "    </tr>\n",
       "  </tbody>\n",
       "</table>\n",
       "</div>"
      ],
      "text/plain": [
       "       actual  predicted_prob\n",
       "13995       0        0.007618\n",
       "4442        0        0.273093\n",
       "8091        0        0.170343\n",
       "9822        0        0.034714\n",
       "6151        0        0.404714\n",
       "6282        0        0.039314\n",
       "511         1        0.557681\n",
       "11024       0        0.147946\n",
       "3980        0        0.118936\n",
       "4229        0        0.109096"
      ]
     },
     "execution_count": 23,
     "metadata": {},
     "output_type": "execute_result"
    }
   ],
   "source": [
    "y_pred_df.sample(10, random_state = 42)"
   ]
  },
  {
   "cell_type": "code",
   "execution_count": 24,
   "metadata": {},
   "outputs": [
    {
     "data": {
      "text/html": [
       "<div>\n",
       "<style scoped>\n",
       "    .dataframe tbody tr th:only-of-type {\n",
       "        vertical-align: middle;\n",
       "    }\n",
       "\n",
       "    .dataframe tbody tr th {\n",
       "        vertical-align: top;\n",
       "    }\n",
       "\n",
       "    .dataframe thead th {\n",
       "        text-align: right;\n",
       "    }\n",
       "</style>\n",
       "<table border=\"1\" class=\"dataframe\">\n",
       "  <thead>\n",
       "    <tr style=\"text-align: right;\">\n",
       "      <th></th>\n",
       "      <th>actual</th>\n",
       "      <th>predicted_prob</th>\n",
       "      <th>predicted</th>\n",
       "    </tr>\n",
       "  </thead>\n",
       "  <tbody>\n",
       "    <tr>\n",
       "      <td>13995</td>\n",
       "      <td>0</td>\n",
       "      <td>0.007618</td>\n",
       "      <td>0</td>\n",
       "    </tr>\n",
       "    <tr>\n",
       "      <td>4442</td>\n",
       "      <td>0</td>\n",
       "      <td>0.273093</td>\n",
       "      <td>0</td>\n",
       "    </tr>\n",
       "    <tr>\n",
       "      <td>8091</td>\n",
       "      <td>0</td>\n",
       "      <td>0.170343</td>\n",
       "      <td>0</td>\n",
       "    </tr>\n",
       "    <tr>\n",
       "      <td>9822</td>\n",
       "      <td>0</td>\n",
       "      <td>0.034714</td>\n",
       "      <td>0</td>\n",
       "    </tr>\n",
       "    <tr>\n",
       "      <td>6151</td>\n",
       "      <td>0</td>\n",
       "      <td>0.404714</td>\n",
       "      <td>0</td>\n",
       "    </tr>\n",
       "    <tr>\n",
       "      <td>6282</td>\n",
       "      <td>0</td>\n",
       "      <td>0.039314</td>\n",
       "      <td>0</td>\n",
       "    </tr>\n",
       "    <tr>\n",
       "      <td>511</td>\n",
       "      <td>1</td>\n",
       "      <td>0.557681</td>\n",
       "      <td>1</td>\n",
       "    </tr>\n",
       "    <tr>\n",
       "      <td>11024</td>\n",
       "      <td>0</td>\n",
       "      <td>0.147946</td>\n",
       "      <td>0</td>\n",
       "    </tr>\n",
       "    <tr>\n",
       "      <td>3980</td>\n",
       "      <td>0</td>\n",
       "      <td>0.118936</td>\n",
       "      <td>0</td>\n",
       "    </tr>\n",
       "    <tr>\n",
       "      <td>4229</td>\n",
       "      <td>0</td>\n",
       "      <td>0.109096</td>\n",
       "      <td>0</td>\n",
       "    </tr>\n",
       "  </tbody>\n",
       "</table>\n",
       "</div>"
      ],
      "text/plain": [
       "       actual  predicted_prob  predicted\n",
       "13995       0        0.007618          0\n",
       "4442        0        0.273093          0\n",
       "8091        0        0.170343          0\n",
       "9822        0        0.034714          0\n",
       "6151        0        0.404714          0\n",
       "6282        0        0.039314          0\n",
       "511         1        0.557681          1\n",
       "11024       0        0.147946          0\n",
       "3980        0        0.118936          0\n",
       "4229        0        0.109096          0"
      ]
     },
     "execution_count": 24,
     "metadata": {},
     "output_type": "execute_result"
    }
   ],
   "source": [
    "y_pred_df['predicted'] = y_pred_df.predicted_prob.map(\n",
    "lambda x: 1 if x > 0.5 else 0)\n",
    "\n",
    "y_pred_df.sample(10, random_state = 42)"
   ]
  },
  {
   "cell_type": "code",
   "execution_count": 26,
   "metadata": {},
   "outputs": [],
   "source": [
    "from sklearn import metrics"
   ]
  },
  {
   "cell_type": "code",
   "execution_count": 32,
   "metadata": {},
   "outputs": [],
   "source": [
    "def draw_cm(actual, predicted):\n",
    "## Cret\n",
    "    cm = metrics.confusion_matrix(actual, predicted, [1,0])\n",
    "    sns.heatmap(cm, annot=True, fmt='.2f',\n",
    "                xticklabels = [\"Left\", \"Not Left\"],\n",
    "                yticklabels = [\"Left\", \"Not Left\"])\n",
    "    plt.ylabel('True label')\n",
    "    plt.xlabel('Predicted label')\n",
    "    plt.show()"
   ]
  },
  {
   "cell_type": "code",
   "execution_count": 33,
   "metadata": {},
   "outputs": [
    {
     "data": {
      "image/png": "[encoded data removed]",
      "text/plain": [
       "<Figure size 432x288 with 2 Axes>"
      ]
     },
     "metadata": {
      "needs_background": "light"
     },
     "output_type": "display_data"
    }
   ],
   "source": [
    "draw_cm(y_pred_df.actual,\n",
    "y_pred_df.predicted)"
   ]
  },
  {
   "cell_type": "code",
   "execution_count": 34,
   "metadata": {},
   "outputs": [
    {
     "name": "stdout",
     "output_type": "stream",
     "text": [
      "              precision    recall  f1-score   support\n",
      "\n",
      "           0       0.81      0.93      0.87      3428\n",
      "           1       0.58      0.33      0.42      1072\n",
      "\n",
      "    accuracy                           0.78      4500\n",
      "   macro avg       0.70      0.63      0.64      4500\n",
      "weighted avg       0.76      0.78      0.76      4500\n",
      "\n"
     ]
    }
   ],
   "source": [
    "print(metrics.classification_report(y_pred_df.actual,\n",
    "y_pred_df.predicted))"
   ]
  },
  {
   "cell_type": "code",
   "execution_count": 36,
   "metadata": {},
   "outputs": [
    {
     "data": {
      "image/png": "[encoded data removed]",
      "text/plain": [
       "<Figure size 576x432 with 1 Axes>"
      ]
     },
     "metadata": {
      "needs_background": "light"
     },
     "output_type": "display_data"
    }
   ],
   "source": [
    "plt.figure(figsize = (8,6))\n",
    "sns.distplot(y_pred_df[y_pred_df.actual == 1][\"predicted_prob\"],\n",
    "kde=False, color = 'b',\n",
    "label = 'Left' )\n",
    "sns.distplot(y_pred_df[y_pred_df.actual == 0][\"predicted_prob\"],\n",
    "kde=False, color = 'g',\n",
    "label = 'Not Left' )\n",
    "plt.legend()\n",
    "plt.show()"
   ]
  },
  {
   "cell_type": "code",
   "execution_count": 37,
   "metadata": {},
   "outputs": [],
   "source": [
    "def draw_roc( actual, probs ):\n",
    "    fpr, \\\n",
    "    tpr, \\\n",
    "    thresholds = metrics.roc_curve(actual, probs, drop_intermediate = False )\n",
    "    auc_score = metrics.roc_auc_score(actual, probs)\n",
    "    plt.figure(figsize=(8, 6))\n",
    "    plt.plot( fpr, tpr, label='ROC curve (area = %0.2f)' % auc_score )\n",
    "    plt.plot([0, 1], [0, 1], 'k--')\n",
    "    plt.xlim([0.0, 1.0])\n",
    "    plt.ylim([0.0, 1.05])\n",
    "    plt.xlabel('False Positive Rate or [1 - True Negative Rate]')\n",
    "    plt.ylabel('True Positive Rate')\n",
    "    plt.legend(loc=\"lower right\")\n",
    "    plt.show()\n",
    "    \n",
    "    return fpr, tpr, thresholds"
   ]
  },
  {
   "cell_type": "code",
   "execution_count": 38,
   "metadata": {},
   "outputs": [
    {
     "data": {
      "image/png": "[encoded data removed]",
      "text/plain": [
       "<Figure size 576x432 with 1 Axes>"
      ]
     },
     "metadata": {
      "needs_background": "light"
     },
     "output_type": "display_data"
    }
   ],
   "source": [
    "fpr, tpr, thresholds = draw_roc(y_pred_df.actual,\n",
    "y_pred_df.predicted_prob)"
   ]
  },
  {
   "cell_type": "code",
   "execution_count": 39,
   "metadata": {},
   "outputs": [
    {
     "data": {
      "text/plain": [
       "0.81"
      ]
     },
     "execution_count": 39,
     "metadata": {},
     "output_type": "execute_result"
    }
   ],
   "source": [
    "auc_score = metrics.roc_auc_score(y_pred_df.actual,\n",
    "y_pred_df.predicted_prob)\n",
    "round(float(auc_score), 2)"
   ]
  },
  {
   "cell_type": "code",
   "execution_count": 40,
   "metadata": {},
   "outputs": [
    {
     "data": {
      "text/html": [
       "<div>\n",
       "<style scoped>\n",
       "    .dataframe tbody tr th:only-of-type {\n",
       "        vertical-align: middle;\n",
       "    }\n",
       "\n",
       "    .dataframe tbody tr th {\n",
       "        vertical-align: top;\n",
       "    }\n",
       "\n",
       "    .dataframe thead th {\n",
       "        text-align: right;\n",
       "    }\n",
       "</style>\n",
       "<table border=\"1\" class=\"dataframe\">\n",
       "  <thead>\n",
       "    <tr style=\"text-align: right;\">\n",
       "      <th></th>\n",
       "      <th>tpr</th>\n",
       "      <th>fpr</th>\n",
       "      <th>thresholds</th>\n",
       "      <th>diff</th>\n",
       "    </tr>\n",
       "  </thead>\n",
       "  <tbody>\n",
       "    <tr>\n",
       "      <td>1155</td>\n",
       "      <td>0.667910</td>\n",
       "      <td>0.174446</td>\n",
       "      <td>0.320829</td>\n",
       "      <td>0.493465</td>\n",
       "    </tr>\n",
       "    <tr>\n",
       "      <td>1156</td>\n",
       "      <td>0.667910</td>\n",
       "      <td>0.174737</td>\n",
       "      <td>0.320782</td>\n",
       "      <td>0.493173</td>\n",
       "    </tr>\n",
       "    <tr>\n",
       "      <td>1157</td>\n",
       "      <td>0.667910</td>\n",
       "      <td>0.175029</td>\n",
       "      <td>0.320512</td>\n",
       "      <td>0.492881</td>\n",
       "    </tr>\n",
       "    <tr>\n",
       "      <td>1158</td>\n",
       "      <td>0.667910</td>\n",
       "      <td>0.175321</td>\n",
       "      <td>0.319931</td>\n",
       "      <td>0.492590</td>\n",
       "    </tr>\n",
       "    <tr>\n",
       "      <td>1172</td>\n",
       "      <td>0.671642</td>\n",
       "      <td>0.179405</td>\n",
       "      <td>0.317379</td>\n",
       "      <td>0.492237</td>\n",
       "    </tr>\n",
       "  </tbody>\n",
       "</table>\n",
       "</div>"
      ],
      "text/plain": [
       "           tpr       fpr  thresholds      diff\n",
       "1155  0.667910  0.174446    0.320829  0.493465\n",
       "1156  0.667910  0.174737    0.320782  0.493173\n",
       "1157  0.667910  0.175029    0.320512  0.492881\n",
       "1158  0.667910  0.175321    0.319931  0.492590\n",
       "1172  0.671642  0.179405    0.317379  0.492237"
      ]
     },
     "execution_count": 40,
     "metadata": {},
     "output_type": "execute_result"
    }
   ],
   "source": [
    "tpr_fpr = pd.DataFrame({'tpr': tpr,\n",
    "                        'fpr': fpr,\n",
    "                        'thresholds': thresholds})\n",
    "tpr_fpr['diff'] = tpr_fpr.tpr - tpr_fpr.fpr\n",
    "tpr_fpr.sort_values('diff', ascending = False)[0:5]"
   ]
  },
  {
   "cell_type": "code",
   "execution_count": 41,
   "metadata": {},
   "outputs": [],
   "source": [
    "y_pred_df['predicted_new'] = y_pred_df.predicted_prob.map(\n",
    "                                lambda x: 1 if x > 0.22 else 0)"
   ]
  },
  {
   "cell_type": "code",
   "execution_count": 42,
   "metadata": {},
   "outputs": [
    {
     "data": {
      "image/png": "[encoded data removed]",
      "text/plain": [
       "<Figure size 432x288 with 2 Axes>"
      ]
     },
     "metadata": {
      "needs_background": "light"
     },
     "output_type": "display_data"
    }
   ],
   "source": [
    "draw_cm(y_pred_df.actual,\n",
    "        y_pred_df.predicted_new)"
   ]
  },
  {
   "cell_type": "code",
   "execution_count": 43,
   "metadata": {},
   "outputs": [
    {
     "name": "stdout",
     "output_type": "stream",
     "text": [
      "              precision    recall  f1-score   support\n",
      "\n",
      "           0       0.91      0.70      0.79      3428\n",
      "           1       0.45      0.78      0.57      1072\n",
      "\n",
      "    accuracy                           0.72      4500\n",
      "   macro avg       0.68      0.74      0.68      4500\n",
      "weighted avg       0.80      0.72      0.74      4500\n",
      "\n"
     ]
    }
   ],
   "source": [
    "print(metrics.classification_report(y_pred_df.actual,\n",
    "y_pred_df.predicted_new))"
   ]
  },
  {
   "cell_type": "code",
   "execution_count": null,
   "metadata": {},
   "outputs": [],
   "source": []
  }
 ],
 "metadata": {
  "kernelspec": {
   "display_name": "Python 3",
   "language": "python",
   "name": "python3"
  },
  "language_info": {
   "codemirror_mode": {
    "name": "ipython",
    "version": 3
   },
   "file_extension": ".py",
   "mimetype": "text/x-python",
   "name": "python",
   "nbconvert_exporter": "python",
   "pygments_lexer": "ipython3",
   "version": "3.7.4"
  }
 },
 "nbformat": 4,
 "nbformat_minor": 2
}
